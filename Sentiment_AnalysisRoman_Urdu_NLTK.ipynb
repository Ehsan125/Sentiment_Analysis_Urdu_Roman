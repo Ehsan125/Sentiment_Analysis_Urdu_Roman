{
 "cells": [
  {
   "cell_type": "markdown",
   "id": "b7043af7",
   "metadata": {},
   "source": [
    "<h1>Sentiment Analysis for Roman Urdu Languages using Kaggle Dataset </h1>"
   ]
  },
  {
   "cell_type": "code",
   "execution_count": null,
   "id": "9c9a842c",
   "metadata": {},
   "outputs": [],
   "source": [
    "# Importing the libraries\n",
    "import numpy as np\n",
    "import matplotlib.pyplot as plt\n",
    "import pandas as pd\n",
    "from sklearn.utils import shuffle\n",
    "from sklearn.preprocessing import LabelEncoder,OneHotEncoder\n",
    "#making corpus or words from comments\n",
    "import re\n",
    "from nltk.stem.porter import PorterStemmer\n",
    "import nltk\n",
    "from sklearn.feature_extraction.text import CountVectorizer\n",
    "from sklearn.model_selection import train_test_split\n",
    "from sklearn.linear_model import LogisticRegression\n",
    "from sklearn.metrics import confusion_matrix\n",
    "from sklearn.metrics import accuracy_score"
   ]
  },
  {
   "cell_type": "markdown",
   "id": "97ee8ddf",
   "metadata": {},
   "source": [
    "<h1> Step1: Read the CSV Which Downloaded From Kaggle</h1>"
   ]
  },
  {
   "cell_type": "code",
   "execution_count": 2,
   "id": "d221cb3b",
   "metadata": {},
   "outputs": [],
   "source": [
    "dataset = pd.read_csv('E:\\Self Learning\\Raster_Time_Series\\Roman Urdu DataSet.csv')\n"
   ]
  },
  {
   "cell_type": "markdown",
   "id": "e6e1a009",
   "metadata": {},
   "source": [
    "<h1> Step2: Show the Output of the Dataframe</h1>"
   ]
  },
  {
   "cell_type": "code",
   "execution_count": 3,
   "id": "7b28fc32",
   "metadata": {},
   "outputs": [
    {
     "data": {
      "text/html": [
       "<div>\n",
       "<style scoped>\n",
       "    .dataframe tbody tr th:only-of-type {\n",
       "        vertical-align: middle;\n",
       "    }\n",
       "\n",
       "    .dataframe tbody tr th {\n",
       "        vertical-align: top;\n",
       "    }\n",
       "\n",
       "    .dataframe thead th {\n",
       "        text-align: right;\n",
       "    }\n",
       "</style>\n",
       "<table border=\"1\" class=\"dataframe\">\n",
       "  <thead>\n",
       "    <tr style=\"text-align: right;\">\n",
       "      <th></th>\n",
       "      <th>Comment</th>\n",
       "      <th>sentiment</th>\n",
       "      <th>nan</th>\n",
       "    </tr>\n",
       "  </thead>\n",
       "  <tbody>\n",
       "    <tr>\n",
       "      <th>0</th>\n",
       "      <td>Sai kha ya her kisi kay bus ki bat nhi hai lak...</td>\n",
       "      <td>Positive</td>\n",
       "      <td>NaN</td>\n",
       "    </tr>\n",
       "    <tr>\n",
       "      <th>1</th>\n",
       "      <td>sahi bt h</td>\n",
       "      <td>Positive</td>\n",
       "      <td>NaN</td>\n",
       "    </tr>\n",
       "    <tr>\n",
       "      <th>2</th>\n",
       "      <td>Kya bt hai,</td>\n",
       "      <td>Positive</td>\n",
       "      <td>NaN</td>\n",
       "    </tr>\n",
       "    <tr>\n",
       "      <th>3</th>\n",
       "      <td>Wah je wah</td>\n",
       "      <td>Positive</td>\n",
       "      <td>NaN</td>\n",
       "    </tr>\n",
       "    <tr>\n",
       "      <th>4</th>\n",
       "      <td>Are wha kaya bat hai</td>\n",
       "      <td>Positive</td>\n",
       "      <td>NaN</td>\n",
       "    </tr>\n",
       "    <tr>\n",
       "      <th>...</th>\n",
       "      <td>...</td>\n",
       "      <td>...</td>\n",
       "      <td>...</td>\n",
       "    </tr>\n",
       "    <tr>\n",
       "      <th>14641</th>\n",
       "      <td>Han mene abhi dekhna start kia last 3 episodes se</td>\n",
       "      <td>Neutral</td>\n",
       "      <td>NaN</td>\n",
       "    </tr>\n",
       "    <tr>\n",
       "      <th>14642</th>\n",
       "      <td>Kitna acha bhai hai kehta me daant kha lun ga ...</td>\n",
       "      <td>Positive</td>\n",
       "      <td>NaN</td>\n",
       "    </tr>\n",
       "    <tr>\n",
       "      <th>14643</th>\n",
       "      <td>DJ ko aik pappi idrrr aikk pappii udrr</td>\n",
       "      <td>Positive</td>\n",
       "      <td>NaN</td>\n",
       "    </tr>\n",
       "    <tr>\n",
       "      <th>14644</th>\n",
       "      <td>Dj ki wja se drama dykna ka dil krta h</td>\n",
       "      <td>Positive</td>\n",
       "      <td>NaN</td>\n",
       "    </tr>\n",
       "    <tr>\n",
       "      <th>14645</th>\n",
       "      <td>Very Bad DJ Ne Ja Video Wap ni ki Arsal ko</td>\n",
       "      <td>Negative</td>\n",
       "      <td>NaN</td>\n",
       "    </tr>\n",
       "  </tbody>\n",
       "</table>\n",
       "<p>14646 rows × 3 columns</p>\n",
       "</div>"
      ],
      "text/plain": [
       "                                                 Comment sentiment  nan\n",
       "0      Sai kha ya her kisi kay bus ki bat nhi hai lak...  Positive  NaN\n",
       "1                                              sahi bt h  Positive  NaN\n",
       "2                                            Kya bt hai,  Positive  NaN\n",
       "3                                             Wah je wah  Positive  NaN\n",
       "4                                   Are wha kaya bat hai  Positive  NaN\n",
       "...                                                  ...       ...  ...\n",
       "14641  Han mene abhi dekhna start kia last 3 episodes se   Neutral  NaN\n",
       "14642  Kitna acha bhai hai kehta me daant kha lun ga ...  Positive  NaN\n",
       "14643            DJ ko aik pappi idrrr aikk pappii udrr   Positive  NaN\n",
       "14644             Dj ki wja se drama dykna ka dil krta h  Positive  NaN\n",
       "14645         Very Bad DJ Ne Ja Video Wap ni ki Arsal ko  Negative  NaN\n",
       "\n",
       "[14646 rows x 3 columns]"
      ]
     },
     "execution_count": 3,
     "metadata": {},
     "output_type": "execute_result"
    }
   ],
   "source": [
    "dataset"
   ]
  },
  {
   "cell_type": "markdown",
   "id": "2478c783",
   "metadata": {},
   "source": [
    "<h1> Step3: Select First few Records</h1>"
   ]
  },
  {
   "cell_type": "code",
   "execution_count": 5,
   "id": "64348177",
   "metadata": {},
   "outputs": [
    {
     "data": {
      "text/html": [
       "<div>\n",
       "<style scoped>\n",
       "    .dataframe tbody tr th:only-of-type {\n",
       "        vertical-align: middle;\n",
       "    }\n",
       "\n",
       "    .dataframe tbody tr th {\n",
       "        vertical-align: top;\n",
       "    }\n",
       "\n",
       "    .dataframe thead th {\n",
       "        text-align: right;\n",
       "    }\n",
       "</style>\n",
       "<table border=\"1\" class=\"dataframe\">\n",
       "  <thead>\n",
       "    <tr style=\"text-align: right;\">\n",
       "      <th></th>\n",
       "      <th>Comment</th>\n",
       "      <th>sentiment</th>\n",
       "      <th>nan</th>\n",
       "    </tr>\n",
       "  </thead>\n",
       "  <tbody>\n",
       "    <tr>\n",
       "      <th>0</th>\n",
       "      <td>Sai kha ya her kisi kay bus ki bat nhi hai lak...</td>\n",
       "      <td>Positive</td>\n",
       "      <td>NaN</td>\n",
       "    </tr>\n",
       "    <tr>\n",
       "      <th>1</th>\n",
       "      <td>sahi bt h</td>\n",
       "      <td>Positive</td>\n",
       "      <td>NaN</td>\n",
       "    </tr>\n",
       "    <tr>\n",
       "      <th>2</th>\n",
       "      <td>Kya bt hai,</td>\n",
       "      <td>Positive</td>\n",
       "      <td>NaN</td>\n",
       "    </tr>\n",
       "    <tr>\n",
       "      <th>3</th>\n",
       "      <td>Wah je wah</td>\n",
       "      <td>Positive</td>\n",
       "      <td>NaN</td>\n",
       "    </tr>\n",
       "    <tr>\n",
       "      <th>4</th>\n",
       "      <td>Are wha kaya bat hai</td>\n",
       "      <td>Positive</td>\n",
       "      <td>NaN</td>\n",
       "    </tr>\n",
       "    <tr>\n",
       "      <th>5</th>\n",
       "      <td>Wah kya baat likhi</td>\n",
       "      <td>Positive</td>\n",
       "      <td>NaN</td>\n",
       "    </tr>\n",
       "    <tr>\n",
       "      <th>6</th>\n",
       "      <td>Wha Itni sari khubiya</td>\n",
       "      <td>Positive</td>\n",
       "      <td>NaN</td>\n",
       "    </tr>\n",
       "    <tr>\n",
       "      <th>7</th>\n",
       "      <td>Itni khubiya</td>\n",
       "      <td>Positive</td>\n",
       "      <td>NaN</td>\n",
       "    </tr>\n",
       "    <tr>\n",
       "      <th>8</th>\n",
       "      <td>Ya allah rehm farma hm sab pe or zalimo ko hid...</td>\n",
       "      <td>Positive</td>\n",
       "      <td>NaN</td>\n",
       "    </tr>\n",
       "    <tr>\n",
       "      <th>9</th>\n",
       "      <td>Please Everyone AllAh S.w.T ka naam hAmesha Ba...</td>\n",
       "      <td>Positive</td>\n",
       "      <td>NaN</td>\n",
       "    </tr>\n",
       "    <tr>\n",
       "      <th>10</th>\n",
       "      <td>Ya mere rab tu bra kreem hy is mulk k halat PR...</td>\n",
       "      <td>Positive</td>\n",
       "      <td>NaN</td>\n",
       "    </tr>\n",
       "    <tr>\n",
       "      <th>11</th>\n",
       "      <td>jaago Pakistani coom jaago ye humary nokar han...</td>\n",
       "      <td>Positive</td>\n",
       "      <td>NaN</td>\n",
       "    </tr>\n",
       "    <tr>\n",
       "      <th>12</th>\n",
       "      <td>kia kia jae .kon sacha ha ALLAH JANY .PAK KESE...</td>\n",
       "      <td>Positive</td>\n",
       "      <td>NaN</td>\n",
       "    </tr>\n",
       "    <tr>\n",
       "      <th>13</th>\n",
       "      <td>afsos hota hai garip insan kha jay Allah ki la...</td>\n",
       "      <td>Positive</td>\n",
       "      <td>NaN</td>\n",
       "    </tr>\n",
       "    <tr>\n",
       "      <th>14</th>\n",
       "      <td>Allah insaaf karey</td>\n",
       "      <td>Positive</td>\n",
       "      <td>NaN</td>\n",
       "    </tr>\n",
       "  </tbody>\n",
       "</table>\n",
       "</div>"
      ],
      "text/plain": [
       "                                              Comment sentiment  nan\n",
       "0   Sai kha ya her kisi kay bus ki bat nhi hai lak...  Positive  NaN\n",
       "1                                           sahi bt h  Positive  NaN\n",
       "2                                         Kya bt hai,  Positive  NaN\n",
       "3                                          Wah je wah  Positive  NaN\n",
       "4                                Are wha kaya bat hai  Positive  NaN\n",
       "5                                  Wah kya baat likhi  Positive  NaN\n",
       "6                               Wha Itni sari khubiya  Positive  NaN\n",
       "7                                        Itni khubiya  Positive  NaN\n",
       "8   Ya allah rehm farma hm sab pe or zalimo ko hid...  Positive  NaN\n",
       "9   Please Everyone AllAh S.w.T ka naam hAmesha Ba...  Positive  NaN\n",
       "10  Ya mere rab tu bra kreem hy is mulk k halat PR...  Positive  NaN\n",
       "11  jaago Pakistani coom jaago ye humary nokar han...  Positive  NaN\n",
       "12  kia kia jae .kon sacha ha ALLAH JANY .PAK KESE...  Positive  NaN\n",
       "13  afsos hota hai garip insan kha jay Allah ki la...  Positive  NaN\n",
       "14                                 Allah insaaf karey  Positive  NaN"
      ]
     },
     "execution_count": 5,
     "metadata": {},
     "output_type": "execute_result"
    }
   ],
   "source": [
    "dataset.head(15)\n"
   ]
  },
  {
   "cell_type": "markdown",
   "id": "077ea9a7",
   "metadata": {},
   "source": [
    "<h1> Step4: Check whether you have equal number of Training Samples for Each Class</h1>"
   ]
  },
  {
   "cell_type": "code",
   "execution_count": 6,
   "id": "97c3d812",
   "metadata": {},
   "outputs": [
    {
     "data": {
      "image/png": "[encoded data removed]",
      "text/plain": [
       "<Figure size 432x288 with 1 Axes>"
      ]
     },
     "metadata": {
      "needs_background": "light"
     },
     "output_type": "display_data"
    }
   ],
   "source": [
    "Pos = dataset[dataset['sentiment'] == 'Positive'].shape[0]\n",
    "Neg = dataset[dataset['sentiment'] == 'Negative'].shape[0]\n",
    "Neu = dataset[dataset['sentiment'] == 'Neutral'].shape[0]\n",
    "# bar plot of the 3 classes\n",
    "plt.bar(10,Pos,3, label=\"Positve\")\n",
    "plt.bar(15,Neg,3, label=\"Negative\")\n",
    "plt.bar(20,Neu,3, label=\"Neutral\")\n",
    "plt.legend()\n",
    "plt.ylabel('Number of examples')\n",
    "plt.title('Proportion of examples')\n",
    "plt.show()"
   ]
  },
  {
   "cell_type": "markdown",
   "id": "b30e3221",
   "metadata": {},
   "source": [
    "<h1> Step 5: Do Some Data Cleaning like Remove Stop Words and Transformation</h1>"
   ]
  },
  {
   "cell_type": "code",
   "execution_count": 7,
   "id": "efe12f2e",
   "metadata": {},
   "outputs": [],
   "source": [
    "y=dataset.iloc[:,1].values\n",
    "labelEnocder_y=LabelEncoder()\n",
    "y=labelEnocder_y.fit_transform(y)\n",
    "# 2 postive 0 negative 1 nuetral"
   ]
  },
  {
   "cell_type": "code",
   "execution_count": 8,
   "id": "1ec854fa",
   "metadata": {},
   "outputs": [],
   "source": [
    "corpus=[]\n",
    "stopwords=['ai', 'ayi', 'hy', 'hai', 'main', 'ki', 'tha', 'koi', 'ko', 'sy', 'woh', 'bhi', 'aur', 'wo', 'yeh', 'rha', 'hota', 'ho', 'ga', 'ka', 'le', 'lye', 'kr', 'kar', 'lye', 'liye', 'hotay', 'waisay', 'gya', 'gaya', 'kch', 'ab', 'thy', 'thay', 'houn', 'hain', 'han', 'to', 'is', 'hi', 'jo', 'kya', 'thi', 'se', 'pe', 'phr', 'wala', 'waisay', 'us', 'na', 'ny', 'hun', 'rha', 'raha', 'ja', 'rahay', 'abi', 'uski', 'ne', 'haan', 'acha', 'nai', 'sent', 'photo', 'you', 'kafi', 'gai', 'rhy', 'kuch', 'jata', 'aye', 'ya', 'dono', 'hoa', 'aese', 'de', 'wohi', 'jati', 'jb', 'krta', 'lg', 'rahi', 'hui', 'karna', 'krna', 'gi', 'hova', 'yehi', 'jana', 'jye', 'chal', 'mil', 'tu', 'hum', 'par', 'hay', 'kis', 'sb', 'gy', 'dain', 'krny', 'tou']\n",
    "for i in range(0,14646):\n",
    "    review = re.sub('[^a-zA-Z]',' ',dataset.iloc[:,0].values[i])\n",
    "    review=review.lower()\n",
    "    review=review.split()\n",
    "    review=[word for word in review if not word in stopwords]\n",
    "    review=' '.join(review)\n",
    "    corpus.append(review)"
   ]
  },
  {
   "cell_type": "markdown",
   "id": "62e25ca4",
   "metadata": {},
   "source": [
    "<h1> Step 6: Vectorize Data for Passing it into Machine Learning Models</h1>"
   ]
  },
  {
   "cell_type": "code",
   "execution_count": 9,
   "id": "14c3b6dd",
   "metadata": {},
   "outputs": [],
   "source": [
    "cv=CountVectorizer(max_features=2500)\n",
    "x=cv.fit_transform(corpus).toarray()"
   ]
  },
  {
   "cell_type": "markdown",
   "id": "bf493292",
   "metadata": {},
   "source": [
    "<h1> Step 7: Split Data Into Traing and Testing</h1>"
   ]
  },
  {
   "cell_type": "code",
   "execution_count": 10,
   "id": "5fddc0a8",
   "metadata": {},
   "outputs": [],
   "source": [
    "x_train,x_test,y_train,y_test=train_test_split(x,y,test_size=0.20)\n"
   ]
  },
  {
   "cell_type": "markdown",
   "id": "42abfb07",
   "metadata": {},
   "source": [
    "<h1> Step 8: Apply Regression Model and Start Training</h1>"
   ]
  },
  {
   "cell_type": "code",
   "execution_count": 11,
   "id": "681318bb",
   "metadata": {},
   "outputs": [
    {
     "data": {
      "text/plain": [
       "LogisticRegression(random_state=0, solver='liblinear')"
      ]
     },
     "execution_count": 11,
     "metadata": {},
     "output_type": "execute_result"
    }
   ],
   "source": [
    "classifier=LogisticRegression(random_state=0,solver='liblinear',multi_class='auto')\n",
    "classifier.fit(x_train,y_train)"
   ]
  },
  {
   "cell_type": "markdown",
   "id": "978c0fda",
   "metadata": {},
   "source": [
    "<h1> Step 9: Apply Classifier and Perform Prediction on Test Data</h1>"
   ]
  },
  {
   "cell_type": "code",
   "execution_count": 12,
   "id": "4bafd674",
   "metadata": {},
   "outputs": [],
   "source": [
    "y_pred=classifier.predict(x_test)\n"
   ]
  },
  {
   "cell_type": "markdown",
   "id": "9c7ce214",
   "metadata": {},
   "source": [
    "<h1> Step 10: Plot Confusion Matrix for Evaluation and Performance</h1>"
   ]
  },
  {
   "cell_type": "code",
   "execution_count": 13,
   "id": "9d4f7068",
   "metadata": {},
   "outputs": [],
   "source": [
    "cm=confusion_matrix(y_test,y_pred)\n"
   ]
  },
  {
   "cell_type": "code",
   "execution_count": 14,
   "id": "7fc413a4",
   "metadata": {},
   "outputs": [
    {
     "data": {
      "text/plain": [
       "array([[ 284,  280,  103],\n",
       "       [ 105, 1152,  170],\n",
       "       [  99,  328,  409]], dtype=int64)"
      ]
     },
     "execution_count": 14,
     "metadata": {},
     "output_type": "execute_result"
    }
   ],
   "source": [
    "cm"
   ]
  },
  {
   "cell_type": "code",
   "execution_count": 15,
   "id": "777e81bd",
   "metadata": {},
   "outputs": [
    {
     "name": "stdout",
     "output_type": "stream",
     "text": [
      "Accuracy is 0.6296928327645052 \n"
     ]
    }
   ],
   "source": [
    "print('Accuracy is {} '.format(accuracy_score(y_test, y_pred)))\n"
   ]
  },
  {
   "cell_type": "code",
   "execution_count": 16,
   "id": "3721bac7",
   "metadata": {},
   "outputs": [
    {
     "name": "stderr",
     "output_type": "stream",
     "text": [
      "<ipython-input-16-a4c09c4060a8>:7: UserWarning: FixedFormatter should only be used together with FixedLocator\n",
      "  ax.set_xticklabels([''] + labels)\n",
      "<ipython-input-16-a4c09c4060a8>:8: UserWarning: FixedFormatter should only be used together with FixedLocator\n",
      "  ax.set_yticklabels([''] + labels)\n"
     ]
    },
    {
     "data": {
      "image/png": "[encoded data removed]",
      "text/plain": [
       "<Figure size 432x288 with 2 Axes>"
      ]
     },
     "metadata": {
      "needs_background": "light"
     },
     "output_type": "display_data"
    }
   ],
   "source": [
    "labels=['Positive','Neutral','Negative']\n",
    "fig = plt.figure()\n",
    "ax = fig.add_subplot(111)\n",
    "cax = ax.matshow(cm)\n",
    "plt.title('Confusion matrix of the classifier \\n')\n",
    "fig.colorbar(cax)\n",
    "ax.set_xticklabels([''] + labels)\n",
    "ax.set_yticklabels([''] + labels)\n",
    "plt.xlabel('Predicted')\n",
    "plt.ylabel('True')\n",
    "plt.show()"
   ]
  },
  {
   "cell_type": "code",
   "execution_count": null,
   "id": "195fad1d",
   "metadata": {},
   "outputs": [],
   "source": []
  }
 ],
 "metadata": {
  "kernelspec": {
   "display_name": "Python 3",
   "language": "python",
   "name": "python3"
  },
  "language_info": {
   "codemirror_mode": {
    "name": "ipython",
    "version": 3
   },
   "file_extension": ".py",
   "mimetype": "text/x-python",
   "name": "python",
   "nbconvert_exporter": "python",
   "pygments_lexer": "ipython3",
   "version": "3.8.8"
  }
 },
 "nbformat": 4,
 "nbformat_minor": 5
}
